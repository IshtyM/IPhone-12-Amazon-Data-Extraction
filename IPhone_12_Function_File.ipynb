{
 "cells": [
  {
   "cell_type": "markdown",
   "metadata": {},
   "source": [
    "### Importing Libraries"
   ]
  },
  {
   "cell_type": "code",
   "execution_count": 2,
   "metadata": {},
   "outputs": [
    {
     "name": "stdout",
     "output_type": "stream",
     "text": [
      "Requirement already satisfied: bs4 in c:\\users\\deepanshu\\anaconda3\\lib\\site-packages (0.0.1)\n",
      "Requirement already satisfied: beautifulsoup4 in c:\\users\\deepanshu\\anaconda3\\lib\\site-packages (from bs4) (4.9.3)\n",
      "Requirement already satisfied: soupsieve>1.2; python_version >= \"3.0\" in c:\\users\\deepanshu\\anaconda3\\lib\\site-packages (from beautifulsoup4->bs4) (2.0.1)\n",
      "Requirement already satisfied: requests in c:\\users\\deepanshu\\anaconda3\\lib\\site-packages (2.24.0)\n",
      "Requirement already satisfied: urllib3!=1.25.0,!=1.25.1,<1.26,>=1.21.1 in c:\\users\\deepanshu\\anaconda3\\lib\\site-packages (from requests) (1.25.11)\n",
      "Requirement already satisfied: idna<3,>=2.5 in c:\\users\\deepanshu\\anaconda3\\lib\\site-packages (from requests) (2.10)\n",
      "Requirement already satisfied: certifi>=2017.4.17 in c:\\users\\deepanshu\\anaconda3\\lib\\site-packages (from requests) (2020.6.20)\n",
      "Requirement already satisfied: chardet<4,>=3.0.2 in c:\\users\\deepanshu\\anaconda3\\lib\\site-packages (from requests) (3.0.4)\n",
      "Requirement already satisfied: html5lib in c:\\users\\deepanshu\\anaconda3\\lib\\site-packages (1.1)\n",
      "Requirement already satisfied: webencodings in c:\\users\\deepanshu\\anaconda3\\lib\\site-packages (from html5lib) (0.5.1)\n",
      "Requirement already satisfied: six>=1.9 in c:\\users\\deepanshu\\anaconda3\\lib\\site-packages (from html5lib) (1.15.0)\n"
     ]
    }
   ],
   "source": [
    "!pip install bs4\n",
    "!pip install requests\n",
    "!pip install html5lib\n",
    "import bs4\n",
    "import requests\n",
    "import re\n",
    "from bs4 import BeautifulSoup"
   ]
  },
  {
   "cell_type": "markdown",
   "metadata": {},
   "source": [
    "### Function for Extracting Data"
   ]
  },
  {
   "cell_type": "code",
   "execution_count": null,
   "metadata": {},
   "outputs": [],
   "source": [
    "def main(search_term):\n",
    "    record=[]\n",
    "    url=get_url(search_term)\n",
    "    for page in range(1,80):\n",
    "        if page=='1':\n",
    "            d = requests.get(url)\n",
    "        elif page=='2':\n",
    "            d = requests.get('https://www.amazon.in/New-Apple-iPhone-12-64GB/product-reviews/B08L5TGWD1/ref=cm_cr_arp_d_paging_btm_next_2?reviewerType=all_reviews&pageNumber=2')\n",
    "        else:\n",
    "            url1=\"https://www.amazon.in/New-Apple-iPhone-12-64GB/product-reviews/B08L5TGWD1/ref=cm_cr_getr_d_paging_btm_next_{}?reviewerType=all_reviews&pageNumber={}\"\n",
    "            d = requests.get(url1.format(page,page))\n",
    "        htmlContent = d.content\n",
    "        soup = BeautifulSoup (htmlContent, 'html.parser')\n",
    "        item=soup.find_all('div',{'data-hook':'review'})\n",
    "        for new in item:\n",
    "            list.append(extract_record(new))\n",
    "\n",
    "def get_url(search_term):\n",
    "    template='https://www.amazon.in/New-Apple-i{}-64GB/product-reviews/B08L5TGWD1?reviewerType=all_reviews'\n",
    "    search_term = search_term.replace(' ','-')\n",
    "    url = template.format(search_term)\n",
    "        \n",
    "    return url\n",
    "\n",
    "\n",
    "\n",
    "def extract_record(new):\n",
    "    name=new.span.text\n",
    "    head=re.sub('[\\n]',' ',(new.find('a',{'data-hook':'review-title'}).text))\n",
    "    Date=new.find('span',{'data-hook':'review-date'}).text\n",
    "    \n",
    "    try:\n",
    "        Pname=new.find('a',{'data-hook':'format-strip'}).text\n",
    "    \n",
    "    except AttributeError:\n",
    "        Pname ='NA'\n",
    "        \n",
    "    rating=new.find('span',{'class':'a-icon-alt'}).text\n",
    "    \n",
    "    try:\n",
    "        review=re.sub('[\\n]',' ',(new.find('span',{'data-hook':'review-body'}).text)).lstrip()\n",
    "    \n",
    "    except AttributeError:\n",
    "        review ='NA'\n",
    "   \n",
    "    try:\n",
    "        ILink=new.find('img',{'class':'review-image-tile'}).get('src')\n",
    "    \n",
    "    except AttributeError:\n",
    "        ILink ='NA'\n",
    "        \n",
    "    try:\n",
    "        Vhelp=new.find('span',{'data-hook':'helpful-vote-statement'}).text\n",
    "    \n",
    "    except AttributeError:\n",
    "        Vhelp ='NA'\n",
    "    \n",
    "    result = (name, head, Date, Pname, rating, review, ILink, Vhelp)\n",
    "    return result\n",
    "list=[]\n"
   ]
  },
  {
   "cell_type": "code",
   "execution_count": 3,
   "metadata": {},
   "outputs": [],
   "source": [
    "def make_clickable(val):\n",
    "    return '<a target=\"_blank\" href=\"{}\">{}</a>'.format(val, val)"
   ]
  }
 ],
 "metadata": {
  "kernelspec": {
   "display_name": "Python 3",
   "language": "python",
   "name": "python3"
  },
  "language_info": {
   "codemirror_mode": {
    "name": "ipython",
    "version": 3
   },
   "file_extension": ".py",
   "mimetype": "text/x-python",
   "name": "python",
   "nbconvert_exporter": "python",
   "pygments_lexer": "ipython3",
   "version": "3.8.5"
  }
 },
 "nbformat": 4,
 "nbformat_minor": 4
}
